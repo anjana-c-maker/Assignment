{
  "nbformat": 4,
  "nbformat_minor": 0,
  "metadata": {
    "colab": {
      "provenance": [],
      "authorship_tag": "ABX9TyMLwKvMzS/ftQjbcwUbavRw",
      "include_colab_link": true
    },
    "kernelspec": {
      "name": "python3",
      "display_name": "Python 3"
    },
    "language_info": {
      "name": "python"
    }
  },
  "cells": [
    {
      "cell_type": "markdown",
      "metadata": {
        "id": "view-in-github",
        "colab_type": "text"
      },
      "source": [
        "<a href=\"https://colab.research.google.com/github/anjana-c-maker/Assignment/blob/master/pattern.ipynb\" target=\"_parent\"><img src=\"https://colab.research.google.com/assets/colab-badge.svg\" alt=\"Open In Colab\"/></a>"
      ]
    },
    {
      "cell_type": "code",
      "source": [
        "def print_single_hexagon():\n",
        "    \"\"\"Prints a single hexagon.\"\"\"\n",
        "    print(\" --- \")\n",
        "    print(\"/   \\\\\")\n",
        "    print(\"\\\\   /\")\n",
        "    print(\" --- \")"
      ],
      "metadata": {
        "id": "s4ClrJ9sJXiO"
      },
      "execution_count": 15,
      "outputs": []
    },
    {
      "cell_type": "code",
      "source": [
        "def print_hexagon_grid(rows, cols):\n",
        "    for row in range(rows):\n",
        "\n",
        "        for col in range(cols):\n",
        "            print(\" --- \", end=\"\")\n",
        "        print()\n",
        "\n",
        "\n",
        "        for col in range(cols):\n",
        "            print(\"/   \\\\\", end=\"\")\n",
        "        print()\n",
        "\n",
        "\n",
        "        for col in range(cols):\n",
        "            print(\"\\\\   /\", end=\"\")\n",
        "        print()\n",
        "\n",
        "\n",
        "# Example usage\n",
        "print(\"inputs :- 4 7\")\n",
        "print_hexagon_grid(4, 7)\n",
        "\n",
        "print(\"inputs :- 3 5\")\n",
        "print_hexagon_grid(3, 5)"
      ],
      "metadata": {
        "colab": {
          "base_uri": "https://localhost:8080/"
        },
        "id": "hFAMhgBHJAJ8",
        "outputId": "8f529b0f-ddfe-437b-ae6e-729a5f949f20"
      },
      "execution_count": 17,
      "outputs": [
        {
          "output_type": "stream",
          "name": "stdout",
          "text": [
            "inputs :- 4 7\n",
            " ---  ---  ---  ---  ---  ---  --- \n",
            "/   \\/   \\/   \\/   \\/   \\/   \\/   \\\n",
            "\\   /\\   /\\   /\\   /\\   /\\   /\\   /\n",
            " ---  ---  ---  ---  ---  ---  --- \n",
            "/   \\/   \\/   \\/   \\/   \\/   \\/   \\\n",
            "\\   /\\   /\\   /\\   /\\   /\\   /\\   /\n",
            " ---  ---  ---  ---  ---  ---  --- \n",
            "/   \\/   \\/   \\/   \\/   \\/   \\/   \\\n",
            "\\   /\\   /\\   /\\   /\\   /\\   /\\   /\n",
            " ---  ---  ---  ---  ---  ---  --- \n",
            "/   \\/   \\/   \\/   \\/   \\/   \\/   \\\n",
            "\\   /\\   /\\   /\\   /\\   /\\   /\\   /\n",
            "inputs :- 3 5\n",
            " ---  ---  ---  ---  --- \n",
            "/   \\/   \\/   \\/   \\/   \\\n",
            "\\   /\\   /\\   /\\   /\\   /\n",
            " ---  ---  ---  ---  --- \n",
            "/   \\/   \\/   \\/   \\/   \\\n",
            "\\   /\\   /\\   /\\   /\\   /\n",
            " ---  ---  ---  ---  --- \n",
            "/   \\/   \\/   \\/   \\/   \\\n",
            "\\   /\\   /\\   /\\   /\\   /\n"
          ]
        }
      ]
    },
    {
      "cell_type": "code",
      "source": [],
      "metadata": {
        "id": "5qc_pehBLAZN"
      },
      "execution_count": null,
      "outputs": []
    }
  ]
}